{
  "nbformat": 4,
  "nbformat_minor": 0,
  "metadata": {
    "colab": {
      "provenance": [],
      "authorship_tag": "ABX9TyPKAeyB997wsPt4VB9zjaTK",
      "include_colab_link": true
    },
    "kernelspec": {
      "name": "python3",
      "display_name": "Python 3"
    },
    "language_info": {
      "name": "python"
    }
  },
  "cells": [
    {
      "cell_type": "markdown",
      "metadata": {
        "id": "view-in-github",
        "colab_type": "text"
      },
      "source": [
        "<a href=\"https://colab.research.google.com/github/littlesunshinecode/JavaExercises/blob/main/par_%C3%ADmpar_verify_v1.ipynb\" target=\"_parent\"><img src=\"https://colab.research.google.com/assets/colab-badge.svg\" alt=\"Open In Colab\"/></a>"
      ]
    },
    {
      "cell_type": "code",
      "execution_count": null,
      "metadata": {
        "id": "L5CY3fH14tuL",
        "outputId": "75478391-d843-472c-a7e2-8d6f8c8ccbd3",
        "colab": {
          "base_uri": "https://localhost:8080/"
        }
      },
      "outputs": [
        {
          "output_type": "stream",
          "name": "stdout",
          "text": [
            "Digite um número inteiro: 4\n",
            "O número 4 é par\n"
          ]
        }
      ],
      "source": [
        "# Faça um programa que peça ao usuário para digitar um número inteiro.\n",
        "# Informe se o número é par ou ímpar.\n",
        "# Caso o usuário não digiar um número inteiro, informe-o sobre o erro.\n",
        "\n",
        "# Versão 1 (if/else com formatação da variável de string(recebido) para numérico\n",
        "# usando .isdigit() e depois validando como inteiro usando var = int(var)\n",
        "\n",
        "entrada = input('Digite um número inteiro: ')\n",
        "\n",
        "if entrada.isdigit():\n",
        "  entrada_int = int(entrada)\n",
        "  par_impar = entrada_int % 2 == 0\n",
        "  par_impar_texto = 'ímpar'\n",
        "  if par_impar:\n",
        "    par_impar_texto = 'par'\n",
        "  print(f'O número {entrada_int} é {par_impar_texto}')\n",
        "  \n",
        "else:\n",
        "  print('Você não digitou um número inteiro')"
      ]
    },
    {
      "cell_type": "code",
      "source": [],
      "metadata": {
        "id": "XlO0bVam40g2"
      },
      "execution_count": null,
      "outputs": []
    }
  ]
}